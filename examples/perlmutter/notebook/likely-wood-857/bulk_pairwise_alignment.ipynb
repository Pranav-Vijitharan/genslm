{
 "cells": [
  {
   "cell_type": "code",
   "execution_count": 1,
   "id": "fa172bdf-6c27-4619-b368-8bad947811c1",
   "metadata": {},
   "outputs": [],
   "source": [
    "from emboss_needle import serviceRun, serviceGetStatus, serviceGetResult, getResult, printGetResultTypes"
   ]
  },
  {
   "cell_type": "code",
   "execution_count": 60,
   "id": "a08d96bd-5278-47fc-ada8-a436bc42df76",
   "metadata": {},
   "outputs": [],
   "source": [
    "from Bio import SeqIO\n",
    "from Bio.Seq import Seq\n",
    "from Bio.SeqRecord import SeqRecord\n",
    "import time\n",
    "from tqdm import tqdm\n",
    "from mpire import WorkerPool"
   ]
  },
  {
   "cell_type": "code",
   "execution_count": 35,
   "id": "9e05a00e-e4fd-40e5-93c6-e60d2defebc0",
   "metadata": {},
   "outputs": [],
   "source": [
    "from concurrent.futures import ThreadPoolExecutor, ProcessPoolExecutor\n",
    "from concurrent.futures import as_completed"
   ]
  },
  {
   "cell_type": "code",
   "execution_count": 4,
   "id": "022284f3-4b4d-49b4-b42e-158c014f1198",
   "metadata": {},
   "outputs": [],
   "source": [
    "generated = list(SeqIO.parse(\"/Users/mzvyagin/Documents/reverse_protein_design/likely-wood-857_1024concat_seqs_reconstructed.fasta\", \"fasta\"))\n",
    "generated_seqs = [s.seq for s in generated]\n",
    "generated_protein_seqs = [s.translate(to_stop=True) for s in generated_seqs]"
   ]
  },
  {
   "cell_type": "code",
   "execution_count": 5,
   "id": "1626cb61-5328-4fc3-9170-0dbe9aa8f800",
   "metadata": {},
   "outputs": [],
   "source": [
    "ecoli_wildtype = list(SeqIO.parse(\"/Users/mzvyagin/Downloads/rcsb_pdb_2PWZ.fasta\", \"fasta\"))[0]"
   ]
  },
  {
   "cell_type": "code",
   "execution_count": 6,
   "id": "9cfe224e-baa5-4c6e-9775-b1e5935bee61",
   "metadata": {},
   "outputs": [
    {
     "data": {
      "text/plain": [
       "SeqRecord(seq=Seq('MKVAVLGAAGGIGQALALLLKTQLPSGSELSLYDIAPVTPGVAVDLSHIPTAVK...VNK'), id='2PWZ_1|Chains', name='2PWZ_1|Chains', description='2PWZ_1|Chains A, B[auth C], C[auth E], D[auth G]|Malate dehydrogenase|Escherichia coli (83333)', dbxrefs=[])"
      ]
     },
     "execution_count": 6,
     "metadata": {},
     "output_type": "execute_result"
    }
   ],
   "source": [
    "ecoli_wildtype"
   ]
  },
  {
   "cell_type": "code",
   "execution_count": 63,
   "id": "17c9df36-1466-4e55-8e9a-8abdc3e711ea",
   "metadata": {},
   "outputs": [],
   "source": [
    "def get_needle_score_seqrecord(seq_a: SeqRecord, seq_b: SeqRecord, translate_a: bool=False, translate_b: bool=True) -> (str, float):\n",
    "    if translate_a:\n",
    "        a = str(seq_a.seq.translate(to_stop=True))\n",
    "    else:\n",
    "        a = str(seq_a.seq)\n",
    "    if translate_b:\n",
    "        b = str(seq_b.seq.translate(to_stop=True))\n",
    "    else:\n",
    "        b = str(seq_b.seq)\n",
    "    params = {}\n",
    "    params['email'] = \"mzvyagin@anl.gov\"\n",
    "    params['stype'] = \"protein\"\n",
    "    params['baseUrl'] = 'https://www.ebi.ac.uk/Tools/services/rest/emboss_needle'\n",
    "    params['asequence'] = a\n",
    "    params['bsequence'] = b\n",
    "    job_id = serviceRun(email=\"mzvyagin@anl.gov\", title=None, params=params)\n",
    "    # check to see if finished\n",
    "    job_status = None\n",
    "    while job_status != \"FINISHED\":\n",
    "        job_status = serviceGetStatus(job_id)\n",
    "    # now that job is finished, get results\n",
    "    output = serviceGetResult(job_id, \"out\")\n",
    "    # parse out the score\n",
    "    output_split = output.split(\"\\n\")\n",
    "    for i in output_split:\n",
    "        if \"Score\" in i:\n",
    "            just_score = float(i.split(\":\")[-1].strip())\n",
    "            return (seq_a, seq_b, just_score)"
   ]
  },
  {
   "cell_type": "code",
   "execution_count": 64,
   "id": "57dc969b-4b89-43ff-91b4-c9e3f1fcfc4f",
   "metadata": {},
   "outputs": [
    {
     "name": "stderr",
     "output_type": "stream",
     "text": [
      "100%|██████████| 1024/1024 [00:01<00:00, 586.57it/s]\n",
      "100%|██████████| 1024/1024 [01:31<00:00, 11.18it/s]\n"
     ]
    }
   ],
   "source": [
    "futures = []\n",
    "results = []\n",
    "with ThreadPoolExecutor(max_workers=128) as pool:\n",
    "    for protein_string in tqdm(generated):\n",
    "        # print(get_needle_score(str(ecoli_wildtype.seq), protein_string))\n",
    "        future = pool.submit(get_needle_score_seqrecord, ecoli_wildtype, protein_string)\n",
    "        futures.append(future)\n",
    "        # results.append(future.result(timeout=60))\n",
    "    \n",
    "    # futures = pool.map(get_needle_score, tqdm(align_seqs), timeout=60)\n",
    "    for i in tqdm(as_completed(futures), total=len(futures)):\n",
    "        results.append(i.result())\n",
    "# for future in as_completed(futures):\n",
    "#     results.append(future.result())"
   ]
  },
  {
   "cell_type": "code",
   "execution_count": 66,
   "id": "6a3ba109-7076-4d6e-888c-ed2f29b936ac",
   "metadata": {},
   "outputs": [],
   "source": [
    "just_scores = [x[2] for x in results]"
   ]
  },
  {
   "cell_type": "code",
   "execution_count": 67,
   "id": "4d733075-57c7-418c-9295-c1bba8885119",
   "metadata": {},
   "outputs": [],
   "source": [
    "import matplotlib.pyplot as plt"
   ]
  },
  {
   "cell_type": "code",
   "execution_count": 68,
   "id": "ad2792c9-7b40-4e9a-bd53-cda1a0fa1509",
   "metadata": {},
   "outputs": [
    {
     "data": {
      "text/plain": [
       "Text(0.5, 1.0, 'NEEDLE Pairwise Score against 2PWZ_1')"
      ]
     },
     "execution_count": 68,
     "metadata": {},
     "output_type": "execute_result"
    },
    {
     "data": {
      "image/png": "[encoded data removed]",
      "text/plain": [
       "<Figure size 432x288 with 1 Axes>"
      ]
     },
     "metadata": {
      "needs_background": "light"
     },
     "output_type": "display_data"
    }
   ],
   "source": [
    "plt.hist(just_scores, bins=100)\n",
    "plt.title(\"NEEDLE Pairwise Score against 2PWZ_1\")"
   ]
  },
  {
   "cell_type": "code",
   "execution_count": 71,
   "id": "2e090278-abc5-4d5b-b1ee-024e50c9b0a1",
   "metadata": {},
   "outputs": [],
   "source": [
    "top_scores = []\n",
    "for x in results:\n",
    "    if x[2] >= 1000:\n",
    "        top_scores.append(x)"
   ]
  },
  {
   "cell_type": "code",
   "execution_count": 72,
   "id": "aee301c9-68c2-489a-90ff-34b81c495133",
   "metadata": {},
   "outputs": [
    {
     "data": {
      "text/plain": [
       "44"
      ]
     },
     "execution_count": 72,
     "metadata": {},
     "output_type": "execute_result"
    }
   ],
   "source": [
    "len(top_scores)"
   ]
  },
  {
   "cell_type": "code",
   "execution_count": 74,
   "id": "c8947a82-43f1-45be-a23a-ad1139d52d86",
   "metadata": {},
   "outputs": [],
   "source": [
    "top_mdh_generated = [x[1] for x in top_scores]"
   ]
  },
  {
   "cell_type": "code",
   "execution_count": 75,
   "id": "218d64db-bde3-4426-8b27-c2c5d1af1fd3",
   "metadata": {},
   "outputs": [
    {
     "data": {
      "text/plain": [
       "44"
      ]
     },
     "execution_count": 75,
     "metadata": {},
     "output_type": "execute_result"
    }
   ],
   "source": [
    "SeqIO.write(top_mdh_generated, \"likely-wood-857-44seqs_with_needle_score_above_1000_2PWZ.fasta\", \"fasta\")"
   ]
  },
  {
   "cell_type": "code",
   "execution_count": 78,
   "id": "9fe33440-0fe3-4f14-ac66-e6547f156b4a",
   "metadata": {},
   "outputs": [],
   "source": [
    "import pickle\n",
    "with open(\"likely-wood-287-seqs_needle_scores_against_2pwz.pkl\", \"wb\") as f:\n",
    "    f.write(pickle.dumps(results))"
   ]
  },
  {
   "cell_type": "code",
   "execution_count": 79,
   "id": "819644e2-f956-4f5f-b9a0-db185c8d54cc",
   "metadata": {},
   "outputs": [],
   "source": [
    "import json"
   ]
  },
  {
   "cell_type": "code",
   "execution_count": 81,
   "id": "21ea5f58-5e73-42ec-a139-d40358456af7",
   "metadata": {},
   "outputs": [],
   "source": [
    "str_results = []\n",
    "for x in results:\n",
    "    str_results.append((str(x[0].seq), str(x[1].seq), x[2]))"
   ]
  },
  {
   "cell_type": "code",
   "execution_count": 83,
   "id": "50167d09-4b71-4c0c-af3a-2ff2e9cfc39d",
   "metadata": {},
   "outputs": [],
   "source": [
    "with open(\"likely-wood-287-seqs_needle_scores_against_2pwz.json\", \"w\") as f:\n",
    "    f.write(json.dumps(str_results))"
   ]
  },
  {
   "cell_type": "code",
   "execution_count": null,
   "id": "608fcb1a-7e0c-43b1-a148-a43a15b17b29",
   "metadata": {},
   "outputs": [],
   "source": []
  }
 ],
 "metadata": {
  "kernelspec": {
   "display_name": "Python 3",
   "language": "python",
   "name": "python3"
  },
  "language_info": {
   "codemirror_mode": {
    "name": "ipython",
    "version": 3
   },
   "file_extension": ".py",
   "mimetype": "text/x-python",
   "name": "python",
   "nbconvert_exporter": "python",
   "pygments_lexer": "ipython3",
   "version": "3.8.5"
  }
 },
 "nbformat": 4,
 "nbformat_minor": 5
}
